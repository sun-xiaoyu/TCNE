{
 "cells": [
  {
   "cell_type": "code",
   "execution_count": 1,
   "metadata": {},
   "outputs": [],
   "source": [
    "import re\n",
    "import os"
   ]
  },
  {
   "cell_type": "code",
   "execution_count": 26,
   "metadata": {},
   "outputs": [
    {
     "name": "stdout",
     "output_type": "stream",
     "text": [
      "webkb 128 node2vec 0.1 0.1\n",
      "Tue Apr 30 12:28:14 2019. At 0 s, node(word) embeddings trained/read from file.\n",
      "Tue Apr 30 12:28:15 2019. At 1 s, feature matrix generated\n",
      "Tue Apr 30 12:28:15 2019. At 1 s, svm model trained/read from file\n",
      "\n",
      "Features shape:(2803, 128)\n",
      "Accuracy in training set:0.8726364609347128\n",
      "Macro:(0.8668446693939487, 0.85416989201803, 0.8599125080865548, None)\n",
      "Micro:(0.8726364609347128, 0.8726364609347128, 0.8726364609347128, None)\n",
      "              precision    recall  f1-score   support\n",
      "\n",
      "      course     0.9475    0.9597    0.9535       620\n",
      "     faculty     0.8405    0.8080    0.8239       750\n",
      "     project     0.8111    0.7411    0.7745       336\n",
      "     student     0.8684    0.9079    0.8877      1097\n",
      "\n",
      "   micro avg     0.8726    0.8726    0.8726      2803\n",
      "   macro avg     0.8668    0.8542    0.8599      2803\n",
      "weighted avg     0.8715    0.8726    0.8716      2803\n",
      "\n",
      "Accuracy in testing set:0.8588825214899714\n",
      "Macro test:(0.8525356503442629, 0.8338829685099847, 0.8419283511889786, None)\n",
      "Micro test:(0.8588825214899714, 0.8588825214899714, 0.8588825214899714, None)\n",
      "              precision    recall  f1-score   support\n",
      "\n",
      "      course     0.9233    0.9323    0.9278       310\n",
      "     faculty     0.8191    0.8235    0.8213       374\n",
      "     project     0.8042    0.6845    0.7395       168\n",
      "     student     0.8635    0.8952    0.8791       544\n",
      "\n",
      "   micro avg     0.8589    0.8589    0.8589      1396\n",
      "   macro avg     0.8525    0.8339    0.8419      1396\n",
      "weighted avg     0.8578    0.8589    0.8576      1396\n",
      "Tue Apr 30 12:28:15 2019. At 1 s, all done.\n",
      "\n"
     ]
    }
   ],
   "source": [
    "file = open(\"results/webkb_node2vec_avg_128_0.1_0.1.txt\",'r')\n",
    "filestr = file.read()\n",
    "print(filestr)\n",
    "file.close()"
   ]
  },
  {
   "cell_type": "code",
   "execution_count": 11,
   "metadata": {},
   "outputs": [
    {
     "name": "stdout",
     "output_type": "stream",
     "text": [
      "webkb_node2vec_avg_128_0.1_10.0.txt\n",
      "webkb_node2vec_avg_128_10.0_0.1.txt\n",
      "webkb_node2vec_avg_128_10.0_3.0.txt\n",
      "webkb_node2vec_avg_128_0.1_1.0.txt\n",
      "webkb_node2vec_avg_128_0.1_0.1.txt\n",
      "webkb_node2vec_avg_128_3.0_10.0.txt\n",
      "webkb_node2vec_avg_128_3.0_1.0.txt\n",
      "webkb_node2vec_avg_128_0.3_3.0.txt\n",
      "webkb_node2vec_avg_128_0.3_0.1.txt\n",
      "webkb_node2vec_avg_128_1.0_0.1.txt\n",
      "webkb_node2vec_avg_128_3.0_3.0.txt\n",
      "webkb_node2vec_avg_128_0.3_0.3.txt\n",
      "webkb_node2vec_avg_128_1.0_10.0.txt\n",
      "webkb_node2vec_avg_128_0.1_0.3.txt\n",
      "webkb_node2vec_avg_128_0.1_3.0.txt\n",
      "webkb_node2vec_avg_128_3.0_0.3.txt\n",
      "webkb_node2vec_avg_128_3.0_0.1.txt\n",
      "webkb_node2vec_avg_128_0.3_1.0.txt\n",
      "webkb_node2vec_avg_128_10.0_1.0.txt\n",
      "webkb_node2vec_avg_128_0.3_10.0.txt\n",
      "webkb_node2vec_avg_128_1.0_1.0.txt\n",
      "webkb_node2vec_avg_128_1.0_0.3.txt\n",
      "webkb_node2vec_avg_128_10.0_0.3.txt\n",
      "webkb_node2vec_avg_128_10.0_10.0.txt\n",
      "webkb_node2vec_avg_128_1.0_3.0.txt\n"
     ]
    }
   ],
   "source": [
    "files = []\n",
    "for file in os.listdir(\"results/\"):\n",
    "    if file.startswith(\"webkb\"):\n",
    "        print(file)\n",
    "        files.append(file)"
   ]
  },
  {
   "cell_type": "code",
   "execution_count": 12,
   "metadata": {},
   "outputs": [
    {
     "data": {
      "text/plain": [
       "25"
      ]
     },
     "execution_count": 12,
     "metadata": {},
     "output_type": "execute_result"
    }
   ],
   "source": [
    "len(files)"
   ]
  },
  {
   "cell_type": "code",
   "execution_count": 21,
   "metadata": {},
   "outputs": [],
   "source": [
    "file = files[1]\n",
    "matchs = [re.match(\"webkb_node2vec_avg_128_(.*)_(.*).txt\", file) for file in files]"
   ]
  },
  {
   "cell_type": "code",
   "execution_count": 23,
   "metadata": {},
   "outputs": [],
   "source": [
    "p = [float(match.group(1)) for match in matchs]\n",
    "q = [float(match.group(2)) for match in matchs]"
   ]
  },
  {
   "cell_type": "code",
   "execution_count": 24,
   "metadata": {},
   "outputs": [
    {
     "data": {
      "text/plain": [
       "[0.1,\n",
       " 10.0,\n",
       " 10.0,\n",
       " 0.1,\n",
       " 0.1,\n",
       " 3.0,\n",
       " 3.0,\n",
       " 0.3,\n",
       " 0.3,\n",
       " 1.0,\n",
       " 3.0,\n",
       " 0.3,\n",
       " 1.0,\n",
       " 0.1,\n",
       " 0.1,\n",
       " 3.0,\n",
       " 3.0,\n",
       " 0.3,\n",
       " 10.0,\n",
       " 0.3,\n",
       " 1.0,\n",
       " 1.0,\n",
       " 10.0,\n",
       " 10.0,\n",
       " 1.0]"
      ]
     },
     "execution_count": 24,
     "metadata": {},
     "output_type": "execute_result"
    }
   ],
   "source": [
    "for file in files:\n",
    "    result = open(\"results/webkb_node2vec_avg_128_0.1_0.1.txt\",'r').read()\n",
    "    macro = re.search(\"\"\n",
    "    f.close()"
   ]
  },
  {
   "cell_type": "code",
   "execution_count": 34,
   "metadata": {},
   "outputs": [],
   "source": [
    "pattern = r\"Accuracy in training set:(.*)\\nMacro:\\(.*, .*, (.*), None\\)\\nMicro:\\(.*, .*, (.*), None\\)\"\n",
    "match = re.search(pattern,filestr)"
   ]
  },
  {
   "cell_type": "code",
   "execution_count": 37,
   "metadata": {},
   "outputs": [
    {
     "ename": "FileNotFoundError",
     "evalue": "[Errno 2] No such file or directory: 'results/webkb_node2vec_avg_128_0.1_10.0.txt'",
     "output_type": "error",
     "traceback": [
      "\u001b[0;31m---------------------------------------------------------------------------\u001b[0m",
      "\u001b[0;31mFileNotFoundError\u001b[0m                         Traceback (most recent call last)",
      "\u001b[0;32m<ipython-input-37-d77230dabaab>\u001b[0m in \u001b[0;36m<module>\u001b[0;34m\u001b[0m\n\u001b[1;32m      1\u001b[0m \u001b[0mmatchs\u001b[0m \u001b[0;34m=\u001b[0m \u001b[0;34m[\u001b[0m\u001b[0;34m]\u001b[0m\u001b[0;34m\u001b[0m\u001b[0;34m\u001b[0m\u001b[0m\n\u001b[1;32m      2\u001b[0m \u001b[0;32mfor\u001b[0m \u001b[0mfile\u001b[0m \u001b[0;32min\u001b[0m \u001b[0mfiles\u001b[0m\u001b[0;34m:\u001b[0m\u001b[0;34m\u001b[0m\u001b[0;34m\u001b[0m\u001b[0m\n\u001b[0;32m----> 3\u001b[0;31m     \u001b[0;32mwith\u001b[0m \u001b[0mopen\u001b[0m\u001b[0;34m(\u001b[0m\u001b[0;34m\"results/\"\u001b[0m\u001b[0;34m+\u001b[0m\u001b[0mfile\u001b[0m\u001b[0;34m,\u001b[0m \u001b[0;34m'r'\u001b[0m\u001b[0;34m)\u001b[0m \u001b[0;32mas\u001b[0m \u001b[0mf\u001b[0m\u001b[0;34m:\u001b[0m\u001b[0;34m\u001b[0m\u001b[0;34m\u001b[0m\u001b[0m\n\u001b[0m\u001b[1;32m      4\u001b[0m         \u001b[0mmatchs\u001b[0m\u001b[0;34m.\u001b[0m\u001b[0mappend\u001b[0m\u001b[0;34m(\u001b[0m\u001b[0mre\u001b[0m\u001b[0;34m.\u001b[0m\u001b[0mmatch\u001b[0m\u001b[0;34m(\u001b[0m\u001b[0mpattern\u001b[0m\u001b[0;34m,\u001b[0m \u001b[0mf\u001b[0m\u001b[0;34m.\u001b[0m\u001b[0mread\u001b[0m\u001b[0;34m(\u001b[0m\u001b[0;34m)\u001b[0m\u001b[0;34m)\u001b[0m\u001b[0;34m)\u001b[0m\u001b[0;34m\u001b[0m\u001b[0;34m\u001b[0m\u001b[0m\n\u001b[1;32m      5\u001b[0m \u001b[0mtrain_acc\u001b[0m \u001b[0;34m=\u001b[0m \u001b[0;34m[\u001b[0m\u001b[0mfloat\u001b[0m\u001b[0;34m(\u001b[0m\u001b[0mmatch\u001b[0m\u001b[0;34m.\u001b[0m\u001b[0mgroup\u001b[0m\u001b[0;34m(\u001b[0m\u001b[0;36m1\u001b[0m\u001b[0;34m)\u001b[0m\u001b[0;34m)\u001b[0m \u001b[0;32mfor\u001b[0m \u001b[0mmatch\u001b[0m \u001b[0;32min\u001b[0m \u001b[0mmatchs\u001b[0m\u001b[0;34m]\u001b[0m\u001b[0;34m\u001b[0m\u001b[0;34m\u001b[0m\u001b[0m\n",
      "\u001b[0;31mFileNotFoundError\u001b[0m: [Errno 2] No such file or directory: 'results/webkb_node2vec_avg_128_0.1_10.0.txt'"
     ]
    }
   ],
   "source": [
    "matchs = []\n",
    "for file in files:\n",
    "    with open(\"results/\"+file, 'r') as f:\n",
    "        matchs.append(re.match(pattern, f.read()))\n",
    "train_acc = [float(match.group(1)) for match in matchs]\n",
    "train_macro_f1 = [float(match.group(2)) for match in matchs]\n",
    "train_micro_f1 = [float(match.group(3)) for match in matchs]"
   ]
  },
  {
   "cell_type": "code",
   "execution_count": null,
   "metadata": {},
   "outputs": [],
   "source": [
    "pattern = r\"Accuracy in testing set:(.*)\\nMacro:\\(.*, .*, (.*), None\\)\\nMicro:\\(.*, .*, (.*), None\\)\"\n",
    "match = re.search(pattern,filestr)\n",
    "\n",
    "matchs = []\n",
    "for file in files:\n",
    "    with open(file, 'r') as f:\n",
    "        matchs.append(re.match(pattern, f.read()))\n",
    "acc = [float(match.group(1)) for match in matchs]\n",
    "macro_f1 = [float(match.group(2)) for match in matchs]\n",
    "micro_f1 = [float(match.group(3)) for match in matchs]"
   ]
  },
  {
   "cell_type": "code",
   "execution_count": null,
   "metadata": {
    "collapsed": true
   },
   "outputs": [],
   "source": []
  }
 ],
 "metadata": {
  "kernelspec": {
   "display_name": "Python 3",
   "language": "python",
   "name": "python3"
  },
  "language_info": {
   "codemirror_mode": {
    "name": "ipython",
    "version": 3
   },
   "file_extension": ".py",
   "mimetype": "text/x-python",
   "name": "python",
   "nbconvert_exporter": "python",
   "pygments_lexer": "ipython3",
   "version": "3.6.8"
  }
 },
 "nbformat": 4,
 "nbformat_minor": 2
}
